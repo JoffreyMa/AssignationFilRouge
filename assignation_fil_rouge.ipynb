{
 "cells": [
  {
   "cell_type": "markdown",
   "id": "9d26458a-c04a-44bc-b968-ba859fd0e76f",
   "metadata": {},
   "source": [
    "# Assignation des projets fil rouge"
   ]
  },
  {
   "cell_type": "markdown",
   "id": "7f9273ee-a264-4963-96c7-cc710e1ba4b5",
   "metadata": {},
   "source": [
    "Par représentation du problème sous contraintes, résolution avec ortools :\n",
    "https://developers.google.com/optimization/assignment/overview\n",
    "\n",
    "---\n",
    "## Description du problème\n",
    "\n",
    "Chaque élève doit être assigné à un projet.\n",
    "\n",
    "Chaque projet à au plus 4 élèves.\n",
    "\n",
    "Pour un élève est collecté ses préférences, que l'on pondère, le 1er choix pesant plus lourd que le second, etc. \n",
    "\n",
    "L'objectif est d'assigner élèves et projets en maximisant le poids total des préférences."
   ]
  },
  {
   "cell_type": "code",
   "execution_count": 1,
   "id": "8219ce30-bf25-41c9-9471-fec8f8170de4",
   "metadata": {},
   "outputs": [],
   "source": [
    "# import\n",
    "import numpy as np\n",
    "from ortools.sat.python import cp_model"
   ]
  },
  {
   "cell_type": "markdown",
   "id": "d22c4e35-cb73-490c-8145-3c41b5e549a7",
   "metadata": {},
   "source": [
    "Choix des poids associés aux préférences."
   ]
  },
  {
   "cell_type": "code",
   "execution_count": 2,
   "id": "15854e13-a58a-4746-8d06-f9675d4a26d7",
   "metadata": {},
   "outputs": [],
   "source": [
    "# Associe à chaque choix un poids\n",
    "# Choix arbitraire d'une suite de Fibonacci\n",
    "fibo = dict({1:89, 2:55, 3:34, 4:21, 5:13, 6:8, 7:5, 8:3, 9:2, 10:1, 11:0})\n",
    "# Comment représenter l'absence de choix, 0 ?"
   ]
  },
  {
   "cell_type": "code",
   "execution_count": 14,
   "id": "0ec0e852-148f-444b-97f0-c23871189d24",
   "metadata": {},
   "outputs": [],
   "source": [
    "# Paramètres\n",
    "num_workers = 40\n",
    "num_tasks = 11\n",
    "# Nombre maximal d'élèves pour un projet\n",
    "task_max = 4"
   ]
  },
  {
   "cell_type": "code",
   "execution_count": 15,
   "id": "c99f62e1-841c-4a09-b94f-df43d8ba19fb",
   "metadata": {},
   "outputs": [
    {
     "data": {
      "text/plain": [
       "[[34, 3, 21, 8, 89, 2, 1, 55, 0, 5, 13],\n",
       " [13, 5, 21, 3, 34, 2, 8, 55, 0, 89, 1],\n",
       " [1, 8, 89, 5, 55, 3, 2, 21, 0, 13, 34],\n",
       " [2, 21, 13, 5, 55, 89, 34, 8, 0, 3, 1],\n",
       " [13, 55, 89, 5, 8, 34, 0, 3, 2, 1, 21],\n",
       " [0, 89, 1, 3, 5, 8, 34, 55, 2, 13, 21],\n",
       " [13, 21, 1, 8, 0, 34, 55, 89, 3, 2, 5],\n",
       " [2, 21, 55, 1, 13, 89, 3, 5, 34, 8, 0],\n",
       " [34, 0, 1, 3, 21, 5, 55, 89, 13, 8, 2],\n",
       " [0, 8, 89, 55, 21, 13, 34, 2, 1, 5, 3],\n",
       " [34, 1, 5, 13, 2, 3, 55, 21, 8, 0, 89],\n",
       " [5, 3, 13, 55, 8, 34, 0, 89, 2, 21, 1],\n",
       " [5, 34, 8, 89, 55, 1, 3, 21, 0, 2, 13],\n",
       " [0, 1, 89, 3, 13, 34, 8, 5, 55, 2, 21],\n",
       " [34, 0, 2, 5, 13, 55, 1, 89, 8, 21, 3],\n",
       " [34, 1, 21, 55, 3, 2, 13, 8, 89, 5, 0],\n",
       " [1, 55, 34, 8, 5, 2, 13, 89, 0, 3, 21],\n",
       " [2, 55, 13, 89, 3, 21, 5, 1, 8, 0, 34],\n",
       " [5, 55, 0, 13, 2, 3, 34, 8, 89, 1, 21],\n",
       " [2, 0, 8, 89, 5, 55, 21, 1, 34, 3, 13],\n",
       " [0, 2, 1, 13, 5, 21, 55, 3, 34, 89, 8],\n",
       " [13, 0, 1, 89, 2, 8, 21, 3, 34, 5, 55],\n",
       " [0, 89, 13, 8, 2, 1, 34, 5, 21, 55, 3],\n",
       " [1, 5, 8, 55, 13, 21, 2, 34, 89, 3, 0],\n",
       " [5, 0, 55, 34, 21, 13, 2, 1, 89, 3, 8],\n",
       " [1, 21, 55, 13, 2, 8, 3, 34, 5, 89, 0],\n",
       " [89, 21, 55, 1, 0, 13, 34, 5, 2, 8, 3],\n",
       " [0, 13, 8, 3, 5, 21, 2, 1, 55, 34, 89],\n",
       " [13, 8, 21, 2, 89, 34, 55, 5, 3, 0, 1],\n",
       " [21, 1, 3, 34, 55, 2, 8, 89, 0, 13, 5],\n",
       " [1, 55, 89, 0, 3, 13, 21, 2, 8, 34, 5],\n",
       " [5, 13, 8, 34, 2, 1, 21, 0, 55, 89, 3],\n",
       " [21, 1, 55, 5, 3, 13, 34, 0, 89, 8, 2],\n",
       " [34, 13, 1, 0, 3, 55, 5, 89, 8, 21, 2],\n",
       " [34, 89, 2, 55, 3, 13, 5, 1, 0, 21, 8],\n",
       " [3, 8, 0, 13, 34, 89, 2, 5, 21, 55, 1],\n",
       " [2, 34, 55, 3, 5, 8, 0, 1, 13, 89, 21],\n",
       " [2, 89, 13, 0, 1, 21, 55, 8, 34, 3, 5],\n",
       " [55, 89, 8, 3, 21, 0, 2, 5, 34, 13, 1],\n",
       " [21, 2, 1, 3, 5, 0, 34, 89, 55, 13, 8]]"
      ]
     },
     "execution_count": 15,
     "metadata": {},
     "output_type": "execute_result"
    }
   ],
   "source": [
    "# Initialisation au pif des préférences de chacun pour tester\n",
    "prefs = []\n",
    "for i in range(num_workers):\n",
    "    arr = np.arange(1, num_tasks+1)\n",
    "    np.random.shuffle(arr)\n",
    "    prefs.append(arr.tolist())\n",
    "    \n",
    "costs = [[fibo[worker_pref] for worker_pref in c_worker] for c_worker in prefs]\n",
    "costs"
   ]
  },
  {
   "cell_type": "code",
   "execution_count": 7,
   "id": "9fc03b62-efab-4b8f-a5cd-c473795a420a",
   "metadata": {},
   "outputs": [],
   "source": [
    "# Déclare le modèle\n",
    "model = cp_model.CpModel()"
   ]
  },
  {
   "cell_type": "code",
   "execution_count": 8,
   "id": "fd1fbd4f-f800-467e-b053-2a29ca07269a",
   "metadata": {},
   "outputs": [],
   "source": [
    "# Déclare les variables\n",
    "x = {}\n",
    "for worker in range(num_workers):\n",
    "    for task in range(num_tasks):\n",
    "        x[worker, task] = model.NewBoolVar(f'x[{worker},{task}]')"
   ]
  },
  {
   "cell_type": "code",
   "execution_count": 9,
   "id": "7636648e-d7a5-4e0b-b589-185ae89f92d1",
   "metadata": {},
   "outputs": [],
   "source": [
    "# Déclare les contraintes\n",
    "\n",
    "# Contraint chaque élève doit avoir exactement 1 projet.\n",
    "for worker in range(num_workers):\n",
    "    model.AddExactlyOne(x[worker, task] for task in range(num_tasks))\n",
    "\n",
    "# Contraint chaque projet doit avoir au maximum task_max élèves.\n",
    "t_workers = []\n",
    "for task in range(num_tasks):\n",
    "    sub_t_workers = []\n",
    "    for worker in range(num_workers):\n",
    "            sub_t_workers.append(x[worker, task])\n",
    "    t_workers.append(sub_t_workers)\n",
    "\n",
    "for e in t_workers:\n",
    "    model.Add(sum(e) <= task_max)"
   ]
  },
  {
   "cell_type": "code",
   "execution_count": 10,
   "id": "2f64a19c-a12f-4a38-a1a0-4c1383f33618",
   "metadata": {},
   "outputs": [],
   "source": [
    "# Déclare l'objectif\n",
    "objective_terms = []\n",
    "for worker in range(num_workers):\n",
    "    for task in range(num_tasks):\n",
    "        objective_terms.append(costs[worker][task] * x[worker, task])\n",
    "model.Maximize(sum(objective_terms))"
   ]
  },
  {
   "cell_type": "code",
   "execution_count": 11,
   "id": "1072cf66-65dd-418a-a7f2-0f7afdd80a29",
   "metadata": {},
   "outputs": [],
   "source": [
    "# Déclare le solver\n",
    "solver = cp_model.CpSolver()\n",
    "status = solver.Solve(model)"
   ]
  },
  {
   "cell_type": "code",
   "execution_count": 12,
   "id": "345282c5-d529-451f-aec4-ca4c9fd6939e",
   "metadata": {},
   "outputs": [
    {
     "name": "stdout",
     "output_type": "stream",
     "text": [
      "Total cost = 3322.0\n",
      "\n",
      "Worker 0 assigned to task 3. Cost = 55\n",
      "Worker 1 assigned to task 5. Cost = 89\n",
      "Worker 2 assigned to task 10. Cost = 89\n",
      "Worker 3 assigned to task 8. Cost = 89\n",
      "Worker 4 assigned to task 6. Cost = 89\n",
      "Worker 5 assigned to task 10. Cost = 89\n",
      "Worker 6 assigned to task 2. Cost = 89\n",
      "Worker 7 assigned to task 10. Cost = 89\n",
      "Worker 8 assigned to task 8. Cost = 89\n",
      "Worker 9 assigned to task 3. Cost = 89\n",
      "Worker 10 assigned to task 7. Cost = 55\n",
      "Worker 11 assigned to task 6. Cost = 89\n",
      "Worker 12 assigned to task 4. Cost = 89\n",
      "Worker 13 assigned to task 2. Cost = 89\n",
      "Worker 14 assigned to task 9. Cost = 55\n",
      "Worker 15 assigned to task 5. Cost = 89\n",
      "Worker 16 assigned to task 6. Cost = 89\n",
      "Worker 17 assigned to task 7. Cost = 89\n",
      "Worker 18 assigned to task 5. Cost = 89\n",
      "Worker 19 assigned to task 9. Cost = 55\n",
      "Worker 20 assigned to task 8. Cost = 89\n",
      "Worker 21 assigned to task 2. Cost = 89\n",
      "Worker 22 assigned to task 8. Cost = 89\n",
      "Worker 23 assigned to task 1. Cost = 89\n",
      "Worker 24 assigned to task 4. Cost = 89\n",
      "Worker 25 assigned to task 9. Cost = 89\n",
      "Worker 26 assigned to task 10. Cost = 89\n",
      "Worker 27 assigned to task 6. Cost = 89\n",
      "Worker 28 assigned to task 3. Cost = 89\n",
      "Worker 29 assigned to task 4. Cost = 89\n",
      "Worker 30 assigned to task 7. Cost = 89\n",
      "Worker 31 assigned to task 0. Cost = 55\n",
      "Worker 32 assigned to task 0. Cost = 89\n",
      "Worker 33 assigned to task 3. Cost = 89\n",
      "Worker 34 assigned to task 1. Cost = 89\n",
      "Worker 35 assigned to task 5. Cost = 89\n",
      "Worker 36 assigned to task 4. Cost = 89\n",
      "Worker 37 assigned to task 0. Cost = 89\n",
      "Worker 38 assigned to task 1. Cost = 55\n",
      "Worker 39 assigned to task 0. Cost = 55\n"
     ]
    }
   ],
   "source": [
    "# Affiche les solutions si trouvées\n",
    "if status == cp_model.OPTIMAL or status == cp_model.FEASIBLE:\n",
    "    print(f'Total cost = {solver.ObjectiveValue()}\\n')\n",
    "    for worker in range(num_workers):\n",
    "        for task in range(num_tasks):\n",
    "            if solver.BooleanValue(x[worker, task]):\n",
    "                print(f'Worker {worker} assigned to task {task}.' +\n",
    "                      f' Cost = {costs[worker][task]}')\n",
    "else:\n",
    "    print('No solution found.')"
   ]
  },
  {
   "cell_type": "code",
   "execution_count": null,
   "id": "46675b67-1797-42ae-b090-8eb2df5252e0",
   "metadata": {},
   "outputs": [],
   "source": []
  }
 ],
 "metadata": {
  "kernelspec": {
   "display_name": "Python 3 (ipykernel)",
   "language": "python",
   "name": "python3"
  },
  "language_info": {
   "codemirror_mode": {
    "name": "ipython",
    "version": 3
   },
   "file_extension": ".py",
   "mimetype": "text/x-python",
   "name": "python",
   "nbconvert_exporter": "python",
   "pygments_lexer": "ipython3",
   "version": "3.8.13"
  }
 },
 "nbformat": 4,
 "nbformat_minor": 5
}
